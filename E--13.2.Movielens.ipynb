{
 "cells": [
  {
   "cell_type": "code",
   "execution_count": 66,
   "id": "13015c38",
   "metadata": {},
   "outputs": [
    {
     "data": {
      "text/html": [
       "<div>\n",
       "<style scoped>\n",
       "    .dataframe tbody tr th:only-of-type {\n",
       "        vertical-align: middle;\n",
       "    }\n",
       "\n",
       "    .dataframe tbody tr th {\n",
       "        vertical-align: top;\n",
       "    }\n",
       "\n",
       "    .dataframe thead th {\n",
       "        text-align: right;\n",
       "    }\n",
       "</style>\n",
       "<table border=\"1\" class=\"dataframe\">\n",
       "  <thead>\n",
       "    <tr style=\"text-align: right;\">\n",
       "      <th></th>\n",
       "      <th>user_id</th>\n",
       "      <th>movie_id</th>\n",
       "      <th>rating</th>\n",
       "      <th>timestamp</th>\n",
       "    </tr>\n",
       "  </thead>\n",
       "  <tbody>\n",
       "    <tr>\n",
       "      <th>0</th>\n",
       "      <td>1</td>\n",
       "      <td>1193</td>\n",
       "      <td>5</td>\n",
       "      <td>978300760</td>\n",
       "    </tr>\n",
       "    <tr>\n",
       "      <th>1</th>\n",
       "      <td>1</td>\n",
       "      <td>661</td>\n",
       "      <td>3</td>\n",
       "      <td>978302109</td>\n",
       "    </tr>\n",
       "    <tr>\n",
       "      <th>2</th>\n",
       "      <td>1</td>\n",
       "      <td>914</td>\n",
       "      <td>3</td>\n",
       "      <td>978301968</td>\n",
       "    </tr>\n",
       "    <tr>\n",
       "      <th>3</th>\n",
       "      <td>1</td>\n",
       "      <td>3408</td>\n",
       "      <td>4</td>\n",
       "      <td>978300275</td>\n",
       "    </tr>\n",
       "    <tr>\n",
       "      <th>4</th>\n",
       "      <td>1</td>\n",
       "      <td>2355</td>\n",
       "      <td>5</td>\n",
       "      <td>978824291</td>\n",
       "    </tr>\n",
       "  </tbody>\n",
       "</table>\n",
       "</div>"
      ],
      "text/plain": [
       "   user_id  movie_id  rating  timestamp\n",
       "0        1      1193       5  978300760\n",
       "1        1       661       3  978302109\n",
       "2        1       914       3  978301968\n",
       "3        1      3408       4  978300275\n",
       "4        1      2355       5  978824291"
      ]
     },
     "execution_count": 66,
     "metadata": {},
     "output_type": "execute_result"
    }
   ],
   "source": [
    "import os\n",
    "import pandas as pd\n",
    "from scipy.sparse import csr_matrix\n",
    "from implicit.als import AlternatingLeastSquares\n",
    "import numpy as np\n",
    "\n",
    "rating_file_path=os.getenv('HOME') + '/aiffel/recommendata_iu/data/ml-1m/ratings.dat'\n",
    "ratings_cols = ['user_id', 'movie_id', 'rating', 'timestamp']\n",
    "ratings = pd.read_csv(rating_file_path, sep='::', names=ratings_cols, engine='python')\n",
    "orginal_data_size = len(ratings)\n",
    "ratings.head()"
   ]
  },
  {
   "cell_type": "markdown",
   "id": "b15ee402",
   "metadata": {},
   "source": [
    "13-9. 프로젝트 - Movielens 영화 추천 실습"
   ]
  },
  {
   "cell_type": "markdown",
   "id": "f7056f7e",
   "metadata": {},
   "source": [
    "mkdir -p ~/aiffel/recommendata_iu/data/ml-1m"
   ]
  },
  {
   "cell_type": "markdown",
   "id": "1959113a",
   "metadata": {},
   "source": [
    "ln -s ~/data/ml-1m/* ~/aiffel/recommendata_iu/data/ml-1m"
   ]
  },
  {
   "cell_type": "markdown",
   "id": "f6275032",
   "metadata": {},
   "source": [
    "1) 데이터 준비와 전처리"
   ]
  },
  {
   "cell_type": "markdown",
   "id": "68c7f1bf",
   "metadata": {},
   "source": [
    "Dataset"
   ]
  },
  {
   "cell_type": "code",
   "execution_count": 67,
   "id": "c5433a54",
   "metadata": {},
   "outputs": [
    {
     "name": "stdout",
     "output_type": "stream",
     "text": [
      "orginal_data_size: 1000209, filtered_data_size: 836478\n",
      "Ratio of Remaining Data is 83.63%\n"
     ]
    }
   ],
   "source": [
    "# 3점 이상만 남깁니다.\n",
    "ratings = ratings[ratings['rating']>=3]\n",
    "filtered_data_size = len(ratings)\n",
    "\n",
    "print(f'orginal_data_size: {orginal_data_size}, filtered_data_size: {filtered_data_size}')\n",
    "print(f'Ratio of Remaining Data is {filtered_data_size / orginal_data_size:.2%}')"
   ]
  },
  {
   "cell_type": "code",
   "execution_count": 68,
   "id": "690a8524",
   "metadata": {},
   "outputs": [],
   "source": [
    "# rating 컬럼의 이름을 count로 바꿉니다.\n",
    "ratings.rename(columns={'rating':'count'}, inplace=True)"
   ]
  },
  {
   "cell_type": "code",
   "execution_count": 69,
   "id": "31e9bf2d",
   "metadata": {},
   "outputs": [],
   "source": [
    "ratings = ratings[['user_id', 'movie_id', 'count']]"
   ]
  },
  {
   "cell_type": "code",
   "execution_count": 70,
   "id": "d5b3ae1e",
   "metadata": {},
   "outputs": [
    {
     "data": {
      "text/html": [
       "<div>\n",
       "<style scoped>\n",
       "    .dataframe tbody tr th:only-of-type {\n",
       "        vertical-align: middle;\n",
       "    }\n",
       "\n",
       "    .dataframe tbody tr th {\n",
       "        vertical-align: top;\n",
       "    }\n",
       "\n",
       "    .dataframe thead th {\n",
       "        text-align: right;\n",
       "    }\n",
       "</style>\n",
       "<table border=\"1\" class=\"dataframe\">\n",
       "  <thead>\n",
       "    <tr style=\"text-align: right;\">\n",
       "      <th></th>\n",
       "      <th>user_id</th>\n",
       "      <th>movie_id</th>\n",
       "      <th>count</th>\n",
       "    </tr>\n",
       "  </thead>\n",
       "  <tbody>\n",
       "    <tr>\n",
       "      <th>0</th>\n",
       "      <td>1</td>\n",
       "      <td>1193</td>\n",
       "      <td>5</td>\n",
       "    </tr>\n",
       "    <tr>\n",
       "      <th>1</th>\n",
       "      <td>1</td>\n",
       "      <td>661</td>\n",
       "      <td>3</td>\n",
       "    </tr>\n",
       "    <tr>\n",
       "      <th>2</th>\n",
       "      <td>1</td>\n",
       "      <td>914</td>\n",
       "      <td>3</td>\n",
       "    </tr>\n",
       "    <tr>\n",
       "      <th>3</th>\n",
       "      <td>1</td>\n",
       "      <td>3408</td>\n",
       "      <td>4</td>\n",
       "    </tr>\n",
       "    <tr>\n",
       "      <th>4</th>\n",
       "      <td>1</td>\n",
       "      <td>2355</td>\n",
       "      <td>5</td>\n",
       "    </tr>\n",
       "    <tr>\n",
       "      <th>...</th>\n",
       "      <td>...</td>\n",
       "      <td>...</td>\n",
       "      <td>...</td>\n",
       "    </tr>\n",
       "    <tr>\n",
       "      <th>1000203</th>\n",
       "      <td>6040</td>\n",
       "      <td>1090</td>\n",
       "      <td>3</td>\n",
       "    </tr>\n",
       "    <tr>\n",
       "      <th>1000205</th>\n",
       "      <td>6040</td>\n",
       "      <td>1094</td>\n",
       "      <td>5</td>\n",
       "    </tr>\n",
       "    <tr>\n",
       "      <th>1000206</th>\n",
       "      <td>6040</td>\n",
       "      <td>562</td>\n",
       "      <td>5</td>\n",
       "    </tr>\n",
       "    <tr>\n",
       "      <th>1000207</th>\n",
       "      <td>6040</td>\n",
       "      <td>1096</td>\n",
       "      <td>4</td>\n",
       "    </tr>\n",
       "    <tr>\n",
       "      <th>1000208</th>\n",
       "      <td>6040</td>\n",
       "      <td>1097</td>\n",
       "      <td>4</td>\n",
       "    </tr>\n",
       "  </tbody>\n",
       "</table>\n",
       "<p>836478 rows × 3 columns</p>\n",
       "</div>"
      ],
      "text/plain": [
       "         user_id  movie_id  count\n",
       "0              1      1193      5\n",
       "1              1       661      3\n",
       "2              1       914      3\n",
       "3              1      3408      4\n",
       "4              1      2355      5\n",
       "...          ...       ...    ...\n",
       "1000203     6040      1090      3\n",
       "1000205     6040      1094      5\n",
       "1000206     6040       562      5\n",
       "1000207     6040      1096      4\n",
       "1000208     6040      1097      4\n",
       "\n",
       "[836478 rows x 3 columns]"
      ]
     },
     "execution_count": 70,
     "metadata": {},
     "output_type": "execute_result"
    }
   ],
   "source": [
    "ratings"
   ]
  },
  {
   "cell_type": "code",
   "execution_count": 75,
   "id": "0cad9dbf",
   "metadata": {},
   "outputs": [
    {
     "data": {
      "text/html": [
       "<div>\n",
       "<style scoped>\n",
       "    .dataframe tbody tr th:only-of-type {\n",
       "        vertical-align: middle;\n",
       "    }\n",
       "\n",
       "    .dataframe tbody tr th {\n",
       "        vertical-align: top;\n",
       "    }\n",
       "\n",
       "    .dataframe thead th {\n",
       "        text-align: right;\n",
       "    }\n",
       "</style>\n",
       "<table border=\"1\" class=\"dataframe\">\n",
       "  <thead>\n",
       "    <tr style=\"text-align: right;\">\n",
       "      <th></th>\n",
       "      <th>movie_id</th>\n",
       "      <th>title</th>\n",
       "      <th>genre</th>\n",
       "    </tr>\n",
       "  </thead>\n",
       "  <tbody>\n",
       "    <tr>\n",
       "      <th>0</th>\n",
       "      <td>1</td>\n",
       "      <td>Toy Story (1995)</td>\n",
       "      <td>Animation|Children's|Comedy</td>\n",
       "    </tr>\n",
       "    <tr>\n",
       "      <th>1</th>\n",
       "      <td>2</td>\n",
       "      <td>Jumanji (1995)</td>\n",
       "      <td>Adventure|Children's|Fantasy</td>\n",
       "    </tr>\n",
       "    <tr>\n",
       "      <th>2</th>\n",
       "      <td>3</td>\n",
       "      <td>Grumpier Old Men (1995)</td>\n",
       "      <td>Comedy|Romance</td>\n",
       "    </tr>\n",
       "    <tr>\n",
       "      <th>3</th>\n",
       "      <td>4</td>\n",
       "      <td>Waiting to Exhale (1995)</td>\n",
       "      <td>Comedy|Drama</td>\n",
       "    </tr>\n",
       "    <tr>\n",
       "      <th>4</th>\n",
       "      <td>5</td>\n",
       "      <td>Father of the Bride Part II (1995)</td>\n",
       "      <td>Comedy</td>\n",
       "    </tr>\n",
       "  </tbody>\n",
       "</table>\n",
       "</div>"
      ],
      "text/plain": [
       "   movie_id                               title                         genre\n",
       "0         1                    Toy Story (1995)   Animation|Children's|Comedy\n",
       "1         2                      Jumanji (1995)  Adventure|Children's|Fantasy\n",
       "2         3             Grumpier Old Men (1995)                Comedy|Romance\n",
       "3         4            Waiting to Exhale (1995)                  Comedy|Drama\n",
       "4         5  Father of the Bride Part II (1995)                        Comedy"
      ]
     },
     "execution_count": 75,
     "metadata": {},
     "output_type": "execute_result"
    }
   ],
   "source": [
    "# 영화 제목을 보기 위해 메타 데이터를 읽어옵니다.\n",
    "movie_file_path=os.getenv('HOME') + '/aiffel/recommendata_iu/data/ml-1m/movies.dat'\n",
    "cols = ['movie_id', 'title', 'genre'] \n",
    "movies = pd.read_csv(movie_file_path, sep='::', names=cols, engine='python', encoding='ISO-8859-1')\n",
    "movies.head()"
   ]
  },
  {
   "cell_type": "markdown",
   "id": "42f0b290",
   "metadata": {},
   "source": [
    "2) 분석해 봅시다."
   ]
  },
  {
   "cell_type": "markdown",
   "id": "6d66d8db",
   "metadata": {},
   "source": [
    "ratings에 있는 유니크한 영화 개수"
   ]
  },
  {
   "cell_type": "markdown",
   "id": "ceca3701",
   "metadata": {},
   "source": [
    "ratings에 있는 유니크한 사용자 수"
   ]
  },
  {
   "cell_type": "markdown",
   "id": "4a9b8ded",
   "metadata": {},
   "source": [
    "가장 인기 있는 영화 30개(인기순)"
   ]
  },
  {
   "cell_type": "markdown",
   "id": "3589f93a",
   "metadata": {},
   "source": [
    "EDA"
   ]
  },
  {
   "cell_type": "code",
   "execution_count": 76,
   "id": "fd9bd2e0",
   "metadata": {},
   "outputs": [
    {
     "data": {
      "text/plain": [
       "3628"
      ]
     },
     "execution_count": 76,
     "metadata": {},
     "output_type": "execute_result"
    }
   ],
   "source": [
    "# ratings에 있는 유니크한 영화 개수\n",
    "ratings['movie_id'].nunique()"
   ]
  },
  {
   "cell_type": "code",
   "execution_count": 77,
   "id": "4ec5aab5",
   "metadata": {},
   "outputs": [
    {
     "data": {
      "text/plain": [
       "6039"
      ]
     },
     "execution_count": 77,
     "metadata": {},
     "output_type": "execute_result"
    }
   ],
   "source": [
    "# rating에 있는 유니크한 사용자 수\n",
    "ratings['user_id'].nunique()"
   ]
  },
  {
   "cell_type": "code",
   "execution_count": 78,
   "id": "fd97e813",
   "metadata": {},
   "outputs": [
    {
     "data": {
      "text/plain": [
       "title\n",
       "American Beauty (1999)                                   3211\n",
       "Star Wars: Episode IV - A New Hope (1977)                2910\n",
       "Star Wars: Episode V - The Empire Strikes Back (1980)    2885\n",
       "Star Wars: Episode VI - Return of the Jedi (1983)        2716\n",
       "Saving Private Ryan (1998)                               2561\n",
       "Terminator 2: Judgment Day (1991)                        2509\n",
       "Silence of the Lambs, The (1991)                         2498\n",
       "Raiders of the Lost Ark (1981)                           2473\n",
       "Back to the Future (1985)                                2460\n",
       "Matrix, The (1999)                                       2434\n",
       "Jurassic Park (1993)                                     2413\n",
       "Sixth Sense, The (1999)                                  2385\n",
       "Fargo (1996)                                             2371\n",
       "Braveheart (1995)                                        2314\n",
       "Men in Black (1997)                                      2297\n",
       "Schindler's List (1993)                                  2257\n",
       "Princess Bride, The (1987)                               2252\n",
       "Shakespeare in Love (1998)                               2213\n",
       "L.A. Confidential (1997)                                 2210\n",
       "Shawshank Redemption, The (1994)                         2194\n",
       "Godfather, The (1972)                                    2167\n",
       "Groundhog Day (1993)                                     2121\n",
       "E.T. the Extra-Terrestrial (1982)                        2102\n",
       "Being John Malkovich (1999)                              2066\n",
       "Ghostbusters (1984)                                      2051\n",
       "Pulp Fiction (1994)                                      2030\n",
       "Forrest Gump (1994)                                      2022\n",
       "Terminator, The (1984)                                   2019\n",
       "Toy Story (1995)                                         2000\n",
       "Fugitive, The (1993)                                     1941\n",
       "Name: count, dtype: int64"
      ]
     },
     "execution_count": 78,
     "metadata": {},
     "output_type": "execute_result"
    }
   ],
   "source": [
    "# 가장 인기있는 영화 30개(인기순)\n",
    "movie_data = pd.merge(ratings, movies)\n",
    "movie_count = movie_data.groupby('title')['count'].count()\n",
    "movie_count.sort_values(ascending=False).head(30)"
   ]
  },
  {
   "cell_type": "markdown",
   "id": "6eb8f30d",
   "metadata": {},
   "source": [
    "3) 내가 선호하는 영화를 5가지 골라서 ratings에 추가해 줍시다."
   ]
  },
  {
   "cell_type": "markdown",
   "id": "90862b86",
   "metadata": {},
   "source": [
    "Add ratings"
   ]
  },
  {
   "cell_type": "code",
   "execution_count": 79,
   "id": "06f4b0be",
   "metadata": {},
   "outputs": [
    {
     "data": {
      "text/html": [
       "<div>\n",
       "<style scoped>\n",
       "    .dataframe tbody tr th:only-of-type {\n",
       "        vertical-align: middle;\n",
       "    }\n",
       "\n",
       "    .dataframe tbody tr th {\n",
       "        vertical-align: top;\n",
       "    }\n",
       "\n",
       "    .dataframe thead th {\n",
       "        text-align: right;\n",
       "    }\n",
       "</style>\n",
       "<table border=\"1\" class=\"dataframe\">\n",
       "  <thead>\n",
       "    <tr style=\"text-align: right;\">\n",
       "      <th></th>\n",
       "      <th>user_id</th>\n",
       "      <th>movie_id</th>\n",
       "      <th>count</th>\n",
       "    </tr>\n",
       "  </thead>\n",
       "  <tbody>\n",
       "    <tr>\n",
       "      <th>1000203</th>\n",
       "      <td>6040</td>\n",
       "      <td>1090</td>\n",
       "      <td>3</td>\n",
       "    </tr>\n",
       "    <tr>\n",
       "      <th>1000205</th>\n",
       "      <td>6040</td>\n",
       "      <td>1094</td>\n",
       "      <td>5</td>\n",
       "    </tr>\n",
       "    <tr>\n",
       "      <th>1000206</th>\n",
       "      <td>6040</td>\n",
       "      <td>562</td>\n",
       "      <td>5</td>\n",
       "    </tr>\n",
       "    <tr>\n",
       "      <th>1000207</th>\n",
       "      <td>6040</td>\n",
       "      <td>1096</td>\n",
       "      <td>4</td>\n",
       "    </tr>\n",
       "    <tr>\n",
       "      <th>1000208</th>\n",
       "      <td>6040</td>\n",
       "      <td>1097</td>\n",
       "      <td>4</td>\n",
       "    </tr>\n",
       "    <tr>\n",
       "      <th>476</th>\n",
       "      <td>6041</td>\n",
       "      <td>480</td>\n",
       "      <td>5</td>\n",
       "    </tr>\n",
       "    <tr>\n",
       "      <th>847</th>\n",
       "      <td>6041</td>\n",
       "      <td>858</td>\n",
       "      <td>5</td>\n",
       "    </tr>\n",
       "    <tr>\n",
       "      <th>1250</th>\n",
       "      <td>6041</td>\n",
       "      <td>1270</td>\n",
       "      <td>5</td>\n",
       "    </tr>\n",
       "    <tr>\n",
       "      <th>1539</th>\n",
       "      <td>6041</td>\n",
       "      <td>1580</td>\n",
       "      <td>5</td>\n",
       "    </tr>\n",
       "    <tr>\n",
       "      <th>2502</th>\n",
       "      <td>6041</td>\n",
       "      <td>2571</td>\n",
       "      <td>5</td>\n",
       "    </tr>\n",
       "  </tbody>\n",
       "</table>\n",
       "</div>"
      ],
      "text/plain": [
       "         user_id  movie_id  count\n",
       "1000203     6040      1090      3\n",
       "1000205     6040      1094      5\n",
       "1000206     6040       562      5\n",
       "1000207     6040      1096      4\n",
       "1000208     6040      1097      4\n",
       "476         6041       480      5\n",
       "847         6041       858      5\n",
       "1250        6041      1270      5\n",
       "1539        6041      1580      5\n",
       "2502        6041      2571      5"
      ]
     },
     "execution_count": 79,
     "metadata": {},
     "output_type": "execute_result"
    }
   ],
   "source": [
    "my_favorite = ['Godfather, The (1972)' , 'Back to the Future (1985)' ,'Matrix, The (1999)' ,'Men in Black (1997)' ,'Jurassic Park (1993)']\n",
    "favorite_movie_id = movies[movies['title'].isin(my_favorite)]\n",
    "my_movie = pd.DataFrame({'user_id': [6041]*5, 'movie_id': favorite_movie_id['movie_id'], 'count':[5]*5})\n",
    "\n",
    "if not ratings.isin({'user_id':[6041]})['user_id'].any():\n",
    "    ratings = ratings.append(my_movie)\n",
    "ratings.tail(10)"
   ]
  },
  {
   "cell_type": "code",
   "execution_count": 80,
   "id": "22a8f8f1",
   "metadata": {},
   "outputs": [
    {
     "data": {
      "text/html": [
       "<div>\n",
       "<style scoped>\n",
       "    .dataframe tbody tr th:only-of-type {\n",
       "        vertical-align: middle;\n",
       "    }\n",
       "\n",
       "    .dataframe tbody tr th {\n",
       "        vertical-align: top;\n",
       "    }\n",
       "\n",
       "    .dataframe thead th {\n",
       "        text-align: right;\n",
       "    }\n",
       "</style>\n",
       "<table border=\"1\" class=\"dataframe\">\n",
       "  <thead>\n",
       "    <tr style=\"text-align: right;\">\n",
       "      <th></th>\n",
       "      <th>movie_id</th>\n",
       "      <th>title</th>\n",
       "      <th>genre</th>\n",
       "    </tr>\n",
       "  </thead>\n",
       "  <tbody>\n",
       "    <tr>\n",
       "      <th>476</th>\n",
       "      <td>480</td>\n",
       "      <td>Jurassic Park (1993)</td>\n",
       "      <td>Action|Adventure|Sci-Fi</td>\n",
       "    </tr>\n",
       "    <tr>\n",
       "      <th>847</th>\n",
       "      <td>858</td>\n",
       "      <td>Godfather, The (1972)</td>\n",
       "      <td>Action|Crime|Drama</td>\n",
       "    </tr>\n",
       "    <tr>\n",
       "      <th>1250</th>\n",
       "      <td>1270</td>\n",
       "      <td>Back to the Future (1985)</td>\n",
       "      <td>Comedy|Sci-Fi</td>\n",
       "    </tr>\n",
       "    <tr>\n",
       "      <th>1539</th>\n",
       "      <td>1580</td>\n",
       "      <td>Men in Black (1997)</td>\n",
       "      <td>Action|Adventure|Comedy|Sci-Fi</td>\n",
       "    </tr>\n",
       "    <tr>\n",
       "      <th>2502</th>\n",
       "      <td>2571</td>\n",
       "      <td>Matrix, The (1999)</td>\n",
       "      <td>Action|Sci-Fi|Thriller</td>\n",
       "    </tr>\n",
       "  </tbody>\n",
       "</table>\n",
       "</div>"
      ],
      "text/plain": [
       "      movie_id                      title                           genre\n",
       "476        480       Jurassic Park (1993)         Action|Adventure|Sci-Fi\n",
       "847        858      Godfather, The (1972)              Action|Crime|Drama\n",
       "1250      1270  Back to the Future (1985)                   Comedy|Sci-Fi\n",
       "1539      1580        Men in Black (1997)  Action|Adventure|Comedy|Sci-Fi\n",
       "2502      2571         Matrix, The (1999)          Action|Sci-Fi|Thriller"
      ]
     },
     "execution_count": 80,
     "metadata": {},
     "output_type": "execute_result"
    }
   ],
   "source": [
    "favorite_movie_id"
   ]
  },
  {
   "cell_type": "code",
   "execution_count": 81,
   "id": "6a404070",
   "metadata": {},
   "outputs": [
    {
     "data": {
      "text/html": [
       "<div>\n",
       "<style scoped>\n",
       "    .dataframe tbody tr th:only-of-type {\n",
       "        vertical-align: middle;\n",
       "    }\n",
       "\n",
       "    .dataframe tbody tr th {\n",
       "        vertical-align: top;\n",
       "    }\n",
       "\n",
       "    .dataframe thead th {\n",
       "        text-align: right;\n",
       "    }\n",
       "</style>\n",
       "<table border=\"1\" class=\"dataframe\">\n",
       "  <thead>\n",
       "    <tr style=\"text-align: right;\">\n",
       "      <th></th>\n",
       "      <th>user_id</th>\n",
       "      <th>movie_id</th>\n",
       "      <th>count</th>\n",
       "      <th>title</th>\n",
       "      <th>genre</th>\n",
       "    </tr>\n",
       "  </thead>\n",
       "  <tbody>\n",
       "    <tr>\n",
       "      <th>0</th>\n",
       "      <td>1</td>\n",
       "      <td>1193</td>\n",
       "      <td>5</td>\n",
       "      <td>One Flew Over the Cuckoo's Nest (1975)</td>\n",
       "      <td>Drama</td>\n",
       "    </tr>\n",
       "    <tr>\n",
       "      <th>1</th>\n",
       "      <td>2</td>\n",
       "      <td>1193</td>\n",
       "      <td>5</td>\n",
       "      <td>One Flew Over the Cuckoo's Nest (1975)</td>\n",
       "      <td>Drama</td>\n",
       "    </tr>\n",
       "    <tr>\n",
       "      <th>2</th>\n",
       "      <td>12</td>\n",
       "      <td>1193</td>\n",
       "      <td>4</td>\n",
       "      <td>One Flew Over the Cuckoo's Nest (1975)</td>\n",
       "      <td>Drama</td>\n",
       "    </tr>\n",
       "    <tr>\n",
       "      <th>3</th>\n",
       "      <td>15</td>\n",
       "      <td>1193</td>\n",
       "      <td>4</td>\n",
       "      <td>One Flew Over the Cuckoo's Nest (1975)</td>\n",
       "      <td>Drama</td>\n",
       "    </tr>\n",
       "    <tr>\n",
       "      <th>4</th>\n",
       "      <td>17</td>\n",
       "      <td>1193</td>\n",
       "      <td>5</td>\n",
       "      <td>One Flew Over the Cuckoo's Nest (1975)</td>\n",
       "      <td>Drama</td>\n",
       "    </tr>\n",
       "    <tr>\n",
       "      <th>...</th>\n",
       "      <td>...</td>\n",
       "      <td>...</td>\n",
       "      <td>...</td>\n",
       "      <td>...</td>\n",
       "      <td>...</td>\n",
       "    </tr>\n",
       "    <tr>\n",
       "      <th>836478</th>\n",
       "      <td>5851</td>\n",
       "      <td>3607</td>\n",
       "      <td>5</td>\n",
       "      <td>One Little Indian (1973)</td>\n",
       "      <td>Comedy|Drama|Western</td>\n",
       "    </tr>\n",
       "    <tr>\n",
       "      <th>836479</th>\n",
       "      <td>5854</td>\n",
       "      <td>3026</td>\n",
       "      <td>4</td>\n",
       "      <td>Slaughterhouse (1987)</td>\n",
       "      <td>Horror</td>\n",
       "    </tr>\n",
       "    <tr>\n",
       "      <th>836480</th>\n",
       "      <td>5854</td>\n",
       "      <td>690</td>\n",
       "      <td>3</td>\n",
       "      <td>Promise, The (Versprechen, Das) (1994)</td>\n",
       "      <td>Romance</td>\n",
       "    </tr>\n",
       "    <tr>\n",
       "      <th>836481</th>\n",
       "      <td>5938</td>\n",
       "      <td>2909</td>\n",
       "      <td>4</td>\n",
       "      <td>Five Wives, Three Secretaries and Me (1998)</td>\n",
       "      <td>Documentary</td>\n",
       "    </tr>\n",
       "    <tr>\n",
       "      <th>836482</th>\n",
       "      <td>5948</td>\n",
       "      <td>1360</td>\n",
       "      <td>5</td>\n",
       "      <td>Identification of a Woman (Identificazione di ...</td>\n",
       "      <td>Drama</td>\n",
       "    </tr>\n",
       "  </tbody>\n",
       "</table>\n",
       "<p>836483 rows × 5 columns</p>\n",
       "</div>"
      ],
      "text/plain": [
       "        user_id  movie_id  count  \\\n",
       "0             1      1193      5   \n",
       "1             2      1193      5   \n",
       "2            12      1193      4   \n",
       "3            15      1193      4   \n",
       "4            17      1193      5   \n",
       "...         ...       ...    ...   \n",
       "836478     5851      3607      5   \n",
       "836479     5854      3026      4   \n",
       "836480     5854       690      3   \n",
       "836481     5938      2909      4   \n",
       "836482     5948      1360      5   \n",
       "\n",
       "                                                    title  \\\n",
       "0                  One Flew Over the Cuckoo's Nest (1975)   \n",
       "1                  One Flew Over the Cuckoo's Nest (1975)   \n",
       "2                  One Flew Over the Cuckoo's Nest (1975)   \n",
       "3                  One Flew Over the Cuckoo's Nest (1975)   \n",
       "4                  One Flew Over the Cuckoo's Nest (1975)   \n",
       "...                                                   ...   \n",
       "836478                           One Little Indian (1973)   \n",
       "836479                              Slaughterhouse (1987)   \n",
       "836480             Promise, The (Versprechen, Das) (1994)   \n",
       "836481        Five Wives, Three Secretaries and Me (1998)   \n",
       "836482  Identification of a Woman (Identificazione di ...   \n",
       "\n",
       "                       genre  \n",
       "0                      Drama  \n",
       "1                      Drama  \n",
       "2                      Drama  \n",
       "3                      Drama  \n",
       "4                      Drama  \n",
       "...                      ...  \n",
       "836478  Comedy|Drama|Western  \n",
       "836479                Horror  \n",
       "836480               Romance  \n",
       "836481           Documentary  \n",
       "836482                 Drama  \n",
       "\n",
       "[836483 rows x 5 columns]"
      ]
     },
     "execution_count": 81,
     "metadata": {},
     "output_type": "execute_result"
    }
   ],
   "source": [
    "movie_data = pd.merge(ratings, movies, on='movie_id')\n",
    "movie_data"
   ]
  },
  {
   "cell_type": "markdown",
   "id": "822881a3",
   "metadata": {},
   "source": [
    "4) CSR matrix를 직접 만들어 봅시다."
   ]
  },
  {
   "cell_type": "markdown",
   "id": "2471c586",
   "metadata": {},
   "source": [
    "CSR matrix"
   ]
  },
  {
   "cell_type": "code",
   "execution_count": 82,
   "id": "70f1a7be",
   "metadata": {},
   "outputs": [
    {
     "data": {
      "text/html": [
       "<div>\n",
       "<style scoped>\n",
       "    .dataframe tbody tr th:only-of-type {\n",
       "        vertical-align: middle;\n",
       "    }\n",
       "\n",
       "    .dataframe tbody tr th {\n",
       "        vertical-align: top;\n",
       "    }\n",
       "\n",
       "    .dataframe thead th {\n",
       "        text-align: right;\n",
       "    }\n",
       "</style>\n",
       "<table border=\"1\" class=\"dataframe\">\n",
       "  <thead>\n",
       "    <tr style=\"text-align: right;\">\n",
       "      <th></th>\n",
       "      <th>user_id</th>\n",
       "      <th>movie_id</th>\n",
       "      <th>count</th>\n",
       "    </tr>\n",
       "  </thead>\n",
       "  <tbody>\n",
       "    <tr>\n",
       "      <th>0</th>\n",
       "      <td>1</td>\n",
       "      <td>1193</td>\n",
       "      <td>5</td>\n",
       "    </tr>\n",
       "    <tr>\n",
       "      <th>1</th>\n",
       "      <td>1</td>\n",
       "      <td>661</td>\n",
       "      <td>3</td>\n",
       "    </tr>\n",
       "    <tr>\n",
       "      <th>2</th>\n",
       "      <td>1</td>\n",
       "      <td>914</td>\n",
       "      <td>3</td>\n",
       "    </tr>\n",
       "    <tr>\n",
       "      <th>3</th>\n",
       "      <td>1</td>\n",
       "      <td>3408</td>\n",
       "      <td>4</td>\n",
       "    </tr>\n",
       "    <tr>\n",
       "      <th>4</th>\n",
       "      <td>1</td>\n",
       "      <td>2355</td>\n",
       "      <td>5</td>\n",
       "    </tr>\n",
       "    <tr>\n",
       "      <th>...</th>\n",
       "      <td>...</td>\n",
       "      <td>...</td>\n",
       "      <td>...</td>\n",
       "    </tr>\n",
       "    <tr>\n",
       "      <th>476</th>\n",
       "      <td>6041</td>\n",
       "      <td>480</td>\n",
       "      <td>5</td>\n",
       "    </tr>\n",
       "    <tr>\n",
       "      <th>847</th>\n",
       "      <td>6041</td>\n",
       "      <td>858</td>\n",
       "      <td>5</td>\n",
       "    </tr>\n",
       "    <tr>\n",
       "      <th>1250</th>\n",
       "      <td>6041</td>\n",
       "      <td>1270</td>\n",
       "      <td>5</td>\n",
       "    </tr>\n",
       "    <tr>\n",
       "      <th>1539</th>\n",
       "      <td>6041</td>\n",
       "      <td>1580</td>\n",
       "      <td>5</td>\n",
       "    </tr>\n",
       "    <tr>\n",
       "      <th>2502</th>\n",
       "      <td>6041</td>\n",
       "      <td>2571</td>\n",
       "      <td>5</td>\n",
       "    </tr>\n",
       "  </tbody>\n",
       "</table>\n",
       "<p>836483 rows × 3 columns</p>\n",
       "</div>"
      ],
      "text/plain": [
       "      user_id  movie_id  count\n",
       "0           1      1193      5\n",
       "1           1       661      3\n",
       "2           1       914      3\n",
       "3           1      3408      4\n",
       "4           1      2355      5\n",
       "...       ...       ...    ...\n",
       "476      6041       480      5\n",
       "847      6041       858      5\n",
       "1250     6041      1270      5\n",
       "1539     6041      1580      5\n",
       "2502     6041      2571      5\n",
       "\n",
       "[836483 rows x 3 columns]"
      ]
     },
     "execution_count": 82,
     "metadata": {},
     "output_type": "execute_result"
    }
   ],
   "source": [
    "ratings"
   ]
  },
  {
   "cell_type": "code",
   "execution_count": 83,
   "id": "3c87fdb1",
   "metadata": {},
   "outputs": [],
   "source": [
    "num_user = ratings['user_id'].nunique()\n",
    "num_movie = ratings['movie_id'].nunique()"
   ]
  },
  {
   "cell_type": "code",
   "execution_count": 84,
   "id": "852bd5ba",
   "metadata": {},
   "outputs": [
    {
     "data": {
      "text/plain": [
       "6040"
      ]
     },
     "execution_count": 84,
     "metadata": {},
     "output_type": "execute_result"
    }
   ],
   "source": [
    "num_user"
   ]
  },
  {
   "cell_type": "code",
   "execution_count": 85,
   "id": "59f850a3",
   "metadata": {},
   "outputs": [
    {
     "data": {
      "text/plain": [
       "3628"
      ]
     },
     "execution_count": 85,
     "metadata": {},
     "output_type": "execute_result"
    }
   ],
   "source": [
    "num_movie"
   ]
  },
  {
   "cell_type": "code",
   "execution_count": 86,
   "id": "b7a5641d",
   "metadata": {},
   "outputs": [
    {
     "data": {
      "text/plain": [
       "0          1\n",
       "1          1\n",
       "2          1\n",
       "3          1\n",
       "4          1\n",
       "        ... \n",
       "476     6041\n",
       "847     6041\n",
       "1250    6041\n",
       "1539    6041\n",
       "2502    6041\n",
       "Name: user_id, Length: 836483, dtype: int64"
      ]
     },
     "execution_count": 86,
     "metadata": {},
     "output_type": "execute_result"
    }
   ],
   "source": [
    "ratings.user_id"
   ]
  },
  {
   "cell_type": "code",
   "execution_count": 87,
   "id": "6d4d6784",
   "metadata": {},
   "outputs": [
    {
     "data": {
      "text/plain": [
       "0       1193\n",
       "1        661\n",
       "2        914\n",
       "3       3408\n",
       "4       2355\n",
       "        ... \n",
       "476      480\n",
       "847      858\n",
       "1250    1270\n",
       "1539    1580\n",
       "2502    2571\n",
       "Name: movie_id, Length: 836483, dtype: int64"
      ]
     },
     "execution_count": 87,
     "metadata": {},
     "output_type": "execute_result"
    }
   ],
   "source": [
    "ratings.movie_id"
   ]
  },
  {
   "cell_type": "code",
   "execution_count": 88,
   "id": "b9f72318",
   "metadata": {},
   "outputs": [
    {
     "data": {
      "text/plain": [
       "<6042x3953 sparse matrix of type '<class 'numpy.int64'>'\n",
       "\twith 836483 stored elements in Compressed Sparse Row format>"
      ]
     },
     "execution_count": 88,
     "metadata": {},
     "output_type": "execute_result"
    }
   ],
   "source": [
    "csr_data = csr_matrix((ratings['count'], (ratings.user_id, ratings.movie_id)))\n",
    "csr_data"
   ]
  },
  {
   "cell_type": "markdown",
   "id": "2e84069e",
   "metadata": {},
   "source": [
    "5) als_model = AlternatingLeastSquares 모델을 직접 구성하여 훈련시켜 봅시다."
   ]
  },
  {
   "cell_type": "markdown",
   "id": "50f92e97",
   "metadata": {},
   "source": [
    "Train"
   ]
  },
  {
   "cell_type": "code",
   "execution_count": 89,
   "id": "cfe4f8df",
   "metadata": {},
   "outputs": [],
   "source": [
    "from implicit.als import AlternatingLeastSquares\n",
    "import os\n",
    "import numpy as np"
   ]
  },
  {
   "cell_type": "code",
   "execution_count": 90,
   "id": "a0903047",
   "metadata": {},
   "outputs": [],
   "source": [
    "os.environ['OPENBLAS_NUM_THREADS']='1'\n",
    "os.environ['KMP_DUPLICATE_LIB_OK']='True'\n",
    "os.environ['MKL_NUM_THREADS']='1'"
   ]
  },
  {
   "cell_type": "code",
   "execution_count": 91,
   "id": "150832c9",
   "metadata": {},
   "outputs": [],
   "source": [
    "als_model = AlternatingLeastSquares(factors=100, regularization=0.01, use_gpu=False, iterations=15, dtype=np.float32)"
   ]
  },
  {
   "cell_type": "code",
   "execution_count": 92,
   "id": "4d768216",
   "metadata": {},
   "outputs": [
    {
     "data": {
      "text/plain": [
       "<3953x6042 sparse matrix of type '<class 'numpy.int64'>'\n",
       "\twith 836483 stored elements in Compressed Sparse Column format>"
      ]
     },
     "execution_count": 92,
     "metadata": {},
     "output_type": "execute_result"
    }
   ],
   "source": [
    "csr_data_transpose = csr_data.T\n",
    "csr_data_transpose"
   ]
  },
  {
   "cell_type": "code",
   "execution_count": 93,
   "id": "e929f40d",
   "metadata": {},
   "outputs": [
    {
     "data": {
      "application/vnd.jupyter.widget-view+json": {
       "model_id": "721723e4b67f4e07b8393f70cb320da0",
       "version_major": 2,
       "version_minor": 0
      },
      "text/plain": [
       "  0%|          | 0/15 [00:00<?, ?it/s]"
      ]
     },
     "metadata": {},
     "output_type": "display_data"
    }
   ],
   "source": [
    "als_model.fit(csr_data_transpose)"
   ]
  },
  {
   "cell_type": "markdown",
   "id": "07ca005d",
   "metadata": {},
   "source": [
    "6) 내가 선호하는 5가지 영화 중 하나와 그 외의 영화 하나를 골라 훈련된 모델이 예측한 나의 선호도를 파악해 보세요."
   ]
  },
  {
   "cell_type": "markdown",
   "id": "1e139c90",
   "metadata": {},
   "source": [
    "좋아하는 영화 선택\n"
   ]
  },
  {
   "cell_type": "markdown",
   "id": "3a7391bb",
   "metadata": {},
   "source": [
    "Godfather/ Back to the Future/ Matrix/ Men in Black/ Jurassic Park"
   ]
  },
  {
   "cell_type": "code",
   "execution_count": 94,
   "id": "e0dfcc38",
   "metadata": {},
   "outputs": [],
   "source": [
    "my_vector, godfather_vector = als_model.user_factors[6041], als_model.item_factors[858]"
   ]
  },
  {
   "cell_type": "code",
   "execution_count": 95,
   "id": "a86379a4",
   "metadata": {},
   "outputs": [
    {
     "data": {
      "text/plain": [
       "array([-5.21488428e-01,  3.65698367e-01,  5.38365066e-01, -9.18594360e-01,\n",
       "        1.06364675e-01,  5.82329273e-01,  1.08344591e+00,  1.65835142e-01,\n",
       "       -4.93130982e-02, -2.42953841e-02, -3.75938147e-01,  1.59314364e-01,\n",
       "       -9.94466424e-01, -1.66411102e-01, -6.14661038e-01, -1.30239412e-01,\n",
       "        5.89147955e-02, -3.68898630e-01, -1.74386222e-02, -9.63006437e-01,\n",
       "        6.93398714e-02, -2.53716469e-01,  1.57950133e-01, -1.08350623e+00,\n",
       "        1.00864136e+00,  1.14737523e+00,  3.09365600e-01,  6.34021640e-01,\n",
       "        1.07791126e-02,  4.10859257e-01,  4.36954379e-01, -5.41845560e-01,\n",
       "       -2.76876420e-01,  2.92541027e-01,  7.10000396e-01, -2.61515051e-01,\n",
       "        3.15152400e-04, -4.17965829e-01,  3.28058675e-02, -4.87566531e-01,\n",
       "        8.88535440e-01, -2.08611846e-01, -4.59147185e-01,  1.97949544e-01,\n",
       "       -1.94758624e-01,  6.31421506e-01, -4.66625184e-01, -4.19151217e-01,\n",
       "       -8.71323571e-02, -3.25043499e-01,  6.08872175e-01, -4.45453376e-02,\n",
       "        1.70525104e-01, -9.87199128e-01, -6.75840855e-01, -6.41238809e-01,\n",
       "       -1.08657004e-02,  5.73034048e-01, -3.83745767e-02, -1.77169874e-01,\n",
       "        5.87404311e-01, -6.75401464e-03,  1.51938304e-01,  1.80909652e-02,\n",
       "        4.82522190e-01, -6.32520616e-02,  9.75364447e-01, -4.20005709e-01,\n",
       "       -3.52332503e-01,  3.81947756e-01,  6.08241975e-01,  6.89828575e-01,\n",
       "       -5.02745807e-01, -9.20896791e-03, -1.04609656e+00,  1.40607679e+00,\n",
       "        7.71067739e-01,  3.82820129e-01, -2.77839843e-02,  5.17628610e-01,\n",
       "       -9.14888680e-01, -2.57590741e-01, -3.43406469e-01,  3.06683391e-01,\n",
       "       -1.36696741e-01, -3.63882184e-01,  3.47141117e-01, -3.89759913e-02,\n",
       "        1.69585019e-01,  9.11091924e-01, -1.97776295e-02,  5.36318541e-01,\n",
       "       -2.39953801e-01,  1.48710266e-01, -3.11476469e-01,  1.19040716e+00,\n",
       "       -1.80311829e-01, -1.14604950e+00, -4.63328324e-02, -9.86443996e-01],\n",
       "      dtype=float32)"
      ]
     },
     "execution_count": 95,
     "metadata": {},
     "output_type": "execute_result"
    }
   ],
   "source": [
    "my_vector"
   ]
  },
  {
   "cell_type": "code",
   "execution_count": 96,
   "id": "2c0a5e72",
   "metadata": {},
   "outputs": [
    {
     "data": {
      "text/plain": [
       "array([-0.01799835,  0.00632637,  0.00073987, -0.03403559,  0.01895938,\n",
       "        0.01161432,  0.04272223,  0.03626214, -0.0036663 ,  0.00161238,\n",
       "        0.00038744,  0.01740954, -0.04377447,  0.00971066, -0.00476695,\n",
       "        0.00844287,  0.00604917,  0.02725244,  0.0101966 , -0.04450892,\n",
       "        0.01882148, -0.01433048,  0.00985467, -0.0178862 ,  0.01718012,\n",
       "        0.01507964,  0.0436704 ,  0.01040962,  0.02491619, -0.02577852,\n",
       "       -0.02102789, -0.00182972,  0.03516179,  0.01086807,  0.02900275,\n",
       "        0.003795  , -0.01494853, -0.01689729, -0.0539009 , -0.02982367,\n",
       "        0.04941583,  0.04494814,  0.02966288,  0.02607063,  0.02610418,\n",
       "        0.02982944, -0.00210792,  0.0175451 ,  0.01951133,  0.04066649,\n",
       "        0.04026088,  0.02126892,  0.01002723, -0.00854947, -0.00203177,\n",
       "       -0.02528859, -0.00035055,  0.03362061,  0.02078374, -0.01386424,\n",
       "        0.01922092, -0.01485065, -0.00520277, -0.02824732,  0.02267048,\n",
       "       -0.00133836,  0.05247991, -0.01325364, -0.0207237 , -0.00149148,\n",
       "        0.01733008, -0.03709984,  0.02004589, -0.02403766, -0.0174996 ,\n",
       "        0.05310051,  0.00931176,  0.03529113,  0.03290105,  0.00741594,\n",
       "       -0.00709441, -0.01709406, -0.02079358,  0.00491129, -0.00083682,\n",
       "        0.036364  ,  0.01915636, -0.0256999 ,  0.0089457 ,  0.02245782,\n",
       "        0.02100306,  0.00656385,  0.00443905, -0.02768395, -0.00849446,\n",
       "        0.01889938, -0.03042207,  0.01874029,  0.01513798, -0.00241177],\n",
       "      dtype=float32)"
      ]
     },
     "execution_count": 96,
     "metadata": {},
     "output_type": "execute_result"
    }
   ],
   "source": [
    "godfather_vector"
   ]
  },
  {
   "cell_type": "code",
   "execution_count": 97,
   "id": "fa2f48c8",
   "metadata": {},
   "outputs": [
    {
     "data": {
      "text/plain": [
       "0.5907673"
      ]
     },
     "execution_count": 97,
     "metadata": {},
     "output_type": "execute_result"
    }
   ],
   "source": [
    "np.dot(my_vector, godfather_vector)"
   ]
  },
  {
   "cell_type": "code",
   "execution_count": 98,
   "id": "61bdf7d4",
   "metadata": {},
   "outputs": [
    {
     "data": {
      "text/plain": [
       "0.07978419"
      ]
     },
     "execution_count": 98,
     "metadata": {},
     "output_type": "execute_result"
    }
   ],
   "source": [
    "toystory_vector = als_model.item_factors[1]\n",
    "np.dot(my_vector, toystory_vector)"
   ]
  },
  {
   "cell_type": "markdown",
   "id": "227b9b71",
   "metadata": {},
   "source": [
    "Similar Movie"
   ]
  },
  {
   "cell_type": "code",
   "execution_count": 99,
   "id": "45fae21e",
   "metadata": {},
   "outputs": [
    {
     "data": {
      "text/plain": [
       "[(858, 1.0000001),\n",
       " (1221, 0.96279025),\n",
       " (2023, 0.57842565),\n",
       " (1953, 0.4218285),\n",
       " (923, 0.38991803),\n",
       " (912, 0.37163168),\n",
       " (872, 0.36458078),\n",
       " (1787, 0.35554045),\n",
       " (2887, 0.34944427),\n",
       " (1213, 0.34684724),\n",
       " (624, 0.3443785),\n",
       " (2695, 0.34300014),\n",
       " (3595, 0.3117994),\n",
       " (1207, 0.3107928),\n",
       " (111, 0.29143322)]"
      ]
     },
     "execution_count": 99,
     "metadata": {},
     "output_type": "execute_result"
    }
   ],
   "source": [
    "favorite_movie = 'Godfather, The (1972)'\n",
    "movie_id = movies[movies['title']=='Godfather, The (1972)']['movie_id']\n",
    "similar_movie = als_model.similar_items(movie_id.values[0], N=15)\n",
    "similar_movie"
   ]
  },
  {
   "cell_type": "code",
   "execution_count": 100,
   "id": "c7c16c43",
   "metadata": {},
   "outputs": [
    {
     "data": {
      "text/html": [
       "<div>\n",
       "<style scoped>\n",
       "    .dataframe tbody tr th:only-of-type {\n",
       "        vertical-align: middle;\n",
       "    }\n",
       "\n",
       "    .dataframe tbody tr th {\n",
       "        vertical-align: top;\n",
       "    }\n",
       "\n",
       "    .dataframe thead th {\n",
       "        text-align: right;\n",
       "    }\n",
       "</style>\n",
       "<table border=\"1\" class=\"dataframe\">\n",
       "  <thead>\n",
       "    <tr style=\"text-align: right;\">\n",
       "      <th></th>\n",
       "      <th>movie_id</th>\n",
       "      <th>title</th>\n",
       "      <th>genre</th>\n",
       "    </tr>\n",
       "  </thead>\n",
       "  <tbody>\n",
       "    <tr>\n",
       "      <th>109</th>\n",
       "      <td>111</td>\n",
       "      <td>Taxi Driver (1976)</td>\n",
       "      <td>Drama|Thriller</td>\n",
       "    </tr>\n",
       "    <tr>\n",
       "      <th>619</th>\n",
       "      <td>624</td>\n",
       "      <td>Condition Red (1995)</td>\n",
       "      <td>Action|Drama|Thriller</td>\n",
       "    </tr>\n",
       "    <tr>\n",
       "      <th>847</th>\n",
       "      <td>858</td>\n",
       "      <td>Godfather, The (1972)</td>\n",
       "      <td>Action|Crime|Drama</td>\n",
       "    </tr>\n",
       "    <tr>\n",
       "      <th>861</th>\n",
       "      <td>872</td>\n",
       "      <td>Aiqing wansui (1994)</td>\n",
       "      <td>Drama</td>\n",
       "    </tr>\n",
       "    <tr>\n",
       "      <th>900</th>\n",
       "      <td>912</td>\n",
       "      <td>Casablanca (1942)</td>\n",
       "      <td>Drama|Romance|War</td>\n",
       "    </tr>\n",
       "    <tr>\n",
       "      <th>911</th>\n",
       "      <td>923</td>\n",
       "      <td>Citizen Kane (1941)</td>\n",
       "      <td>Drama</td>\n",
       "    </tr>\n",
       "    <tr>\n",
       "      <th>1189</th>\n",
       "      <td>1207</td>\n",
       "      <td>To Kill a Mockingbird (1962)</td>\n",
       "      <td>Drama</td>\n",
       "    </tr>\n",
       "    <tr>\n",
       "      <th>1195</th>\n",
       "      <td>1213</td>\n",
       "      <td>GoodFellas (1990)</td>\n",
       "      <td>Crime|Drama</td>\n",
       "    </tr>\n",
       "    <tr>\n",
       "      <th>1203</th>\n",
       "      <td>1221</td>\n",
       "      <td>Godfather: Part II, The (1974)</td>\n",
       "      <td>Action|Crime|Drama</td>\n",
       "    </tr>\n",
       "    <tr>\n",
       "      <th>1728</th>\n",
       "      <td>1787</td>\n",
       "      <td>Paralyzing Fear: The Story of Polio in America...</td>\n",
       "      <td>Documentary</td>\n",
       "    </tr>\n",
       "    <tr>\n",
       "      <th>1884</th>\n",
       "      <td>1953</td>\n",
       "      <td>French Connection, The (1971)</td>\n",
       "      <td>Action|Crime|Drama|Thriller</td>\n",
       "    </tr>\n",
       "    <tr>\n",
       "      <th>1954</th>\n",
       "      <td>2023</td>\n",
       "      <td>Godfather: Part III, The (1990)</td>\n",
       "      <td>Action|Crime|Drama</td>\n",
       "    </tr>\n",
       "    <tr>\n",
       "      <th>2626</th>\n",
       "      <td>2695</td>\n",
       "      <td>Boys, The (1997)</td>\n",
       "      <td>Drama</td>\n",
       "    </tr>\n",
       "    <tr>\n",
       "      <th>2818</th>\n",
       "      <td>2887</td>\n",
       "      <td>Simon Sez (1999)</td>\n",
       "      <td>Drama</td>\n",
       "    </tr>\n",
       "    <tr>\n",
       "      <th>3526</th>\n",
       "      <td>3595</td>\n",
       "      <td>Held Up (2000)</td>\n",
       "      <td>Comedy</td>\n",
       "    </tr>\n",
       "  </tbody>\n",
       "</table>\n",
       "</div>"
      ],
      "text/plain": [
       "      movie_id                                              title  \\\n",
       "109        111                                 Taxi Driver (1976)   \n",
       "619        624                               Condition Red (1995)   \n",
       "847        858                              Godfather, The (1972)   \n",
       "861        872                               Aiqing wansui (1994)   \n",
       "900        912                                  Casablanca (1942)   \n",
       "911        923                                Citizen Kane (1941)   \n",
       "1189      1207                       To Kill a Mockingbird (1962)   \n",
       "1195      1213                                  GoodFellas (1990)   \n",
       "1203      1221                     Godfather: Part II, The (1974)   \n",
       "1728      1787  Paralyzing Fear: The Story of Polio in America...   \n",
       "1884      1953                      French Connection, The (1971)   \n",
       "1954      2023                    Godfather: Part III, The (1990)   \n",
       "2626      2695                                   Boys, The (1997)   \n",
       "2818      2887                                   Simon Sez (1999)   \n",
       "3526      3595                                     Held Up (2000)   \n",
       "\n",
       "                            genre  \n",
       "109                Drama|Thriller  \n",
       "619         Action|Drama|Thriller  \n",
       "847            Action|Crime|Drama  \n",
       "861                         Drama  \n",
       "900             Drama|Romance|War  \n",
       "911                         Drama  \n",
       "1189                        Drama  \n",
       "1195                  Crime|Drama  \n",
       "1203           Action|Crime|Drama  \n",
       "1728                  Documentary  \n",
       "1884  Action|Crime|Drama|Thriller  \n",
       "1954           Action|Crime|Drama  \n",
       "2626                        Drama  \n",
       "2818                        Drama  \n",
       "3526                       Comedy  "
      ]
     },
     "execution_count": 100,
     "metadata": {},
     "output_type": "execute_result"
    }
   ],
   "source": [
    "movies[movies['movie_id'].isin([s[0] for s in similar_movie])]"
   ]
  },
  {
   "cell_type": "markdown",
   "id": "86c272e8",
   "metadata": {},
   "source": [
    "7) 내가 좋아하는 영화와 비슷한 영화를 추천받아 봅시다."
   ]
  },
  {
   "cell_type": "markdown",
   "id": "c59dc878",
   "metadata": {},
   "source": [
    "Favorite Movie"
   ]
  },
  {
   "cell_type": "code",
   "execution_count": 101,
   "id": "429eb4a0",
   "metadata": {},
   "outputs": [
    {
     "data": {
      "text/plain": [
       "[(589, 0.64535594),\n",
       " (1221, 0.52470595),\n",
       " (2916, 0.4215576),\n",
       " (260, 0.36439812),\n",
       " (1210, 0.36282262),\n",
       " (110, 0.33766633),\n",
       " (1196, 0.336964),\n",
       " (1573, 0.3360237),\n",
       " (1527, 0.2878201),\n",
       " (1240, 0.28710407),\n",
       " (648, 0.27963126),\n",
       " (2023, 0.27350232),\n",
       " (780, 0.26402017),\n",
       " (457, 0.24937974),\n",
       " (356, 0.24701737),\n",
       " (2028, 0.24657926),\n",
       " (1544, 0.24584253),\n",
       " (2791, 0.22807452),\n",
       " (3793, 0.21854919),\n",
       " (2716, 0.21133597)]"
      ]
     },
     "execution_count": 101,
     "metadata": {},
     "output_type": "execute_result"
    }
   ],
   "source": [
    "user = 6041\n",
    "movie_recommended = als_model.recommend(user, csr_data, N=20, filter_already_liked_items=True)\n",
    "movie_recommended"
   ]
  },
  {
   "cell_type": "code",
   "execution_count": 102,
   "id": "a30f353e",
   "metadata": {},
   "outputs": [
    {
     "data": {
      "text/html": [
       "<div>\n",
       "<style scoped>\n",
       "    .dataframe tbody tr th:only-of-type {\n",
       "        vertical-align: middle;\n",
       "    }\n",
       "\n",
       "    .dataframe tbody tr th {\n",
       "        vertical-align: top;\n",
       "    }\n",
       "\n",
       "    .dataframe thead th {\n",
       "        text-align: right;\n",
       "    }\n",
       "</style>\n",
       "<table border=\"1\" class=\"dataframe\">\n",
       "  <thead>\n",
       "    <tr style=\"text-align: right;\">\n",
       "      <th></th>\n",
       "      <th>movie_id</th>\n",
       "      <th>title</th>\n",
       "      <th>genre</th>\n",
       "    </tr>\n",
       "  </thead>\n",
       "  <tbody>\n",
       "    <tr>\n",
       "      <th>108</th>\n",
       "      <td>110</td>\n",
       "      <td>Braveheart (1995)</td>\n",
       "      <td>Action|Drama|War</td>\n",
       "    </tr>\n",
       "    <tr>\n",
       "      <th>257</th>\n",
       "      <td>260</td>\n",
       "      <td>Star Wars: Episode IV - A New Hope (1977)</td>\n",
       "      <td>Action|Adventure|Fantasy|Sci-Fi</td>\n",
       "    </tr>\n",
       "    <tr>\n",
       "      <th>352</th>\n",
       "      <td>356</td>\n",
       "      <td>Forrest Gump (1994)</td>\n",
       "      <td>Comedy|Romance|War</td>\n",
       "    </tr>\n",
       "    <tr>\n",
       "      <th>453</th>\n",
       "      <td>457</td>\n",
       "      <td>Fugitive, The (1993)</td>\n",
       "      <td>Action|Thriller</td>\n",
       "    </tr>\n",
       "    <tr>\n",
       "      <th>585</th>\n",
       "      <td>589</td>\n",
       "      <td>Terminator 2: Judgment Day (1991)</td>\n",
       "      <td>Action|Sci-Fi|Thriller</td>\n",
       "    </tr>\n",
       "    <tr>\n",
       "      <th>642</th>\n",
       "      <td>648</td>\n",
       "      <td>Mission: Impossible (1996)</td>\n",
       "      <td>Action|Adventure|Mystery</td>\n",
       "    </tr>\n",
       "    <tr>\n",
       "      <th>770</th>\n",
       "      <td>780</td>\n",
       "      <td>Independence Day (ID4) (1996)</td>\n",
       "      <td>Action|Sci-Fi|War</td>\n",
       "    </tr>\n",
       "    <tr>\n",
       "      <th>1178</th>\n",
       "      <td>1196</td>\n",
       "      <td>Star Wars: Episode V - The Empire Strikes Back...</td>\n",
       "      <td>Action|Adventure|Drama|Sci-Fi|War</td>\n",
       "    </tr>\n",
       "    <tr>\n",
       "      <th>1192</th>\n",
       "      <td>1210</td>\n",
       "      <td>Star Wars: Episode VI - Return of the Jedi (1983)</td>\n",
       "      <td>Action|Adventure|Romance|Sci-Fi|War</td>\n",
       "    </tr>\n",
       "    <tr>\n",
       "      <th>1203</th>\n",
       "      <td>1221</td>\n",
       "      <td>Godfather: Part II, The (1974)</td>\n",
       "      <td>Action|Crime|Drama</td>\n",
       "    </tr>\n",
       "    <tr>\n",
       "      <th>1220</th>\n",
       "      <td>1240</td>\n",
       "      <td>Terminator, The (1984)</td>\n",
       "      <td>Action|Sci-Fi|Thriller</td>\n",
       "    </tr>\n",
       "    <tr>\n",
       "      <th>1491</th>\n",
       "      <td>1527</td>\n",
       "      <td>Fifth Element, The (1997)</td>\n",
       "      <td>Action|Sci-Fi</td>\n",
       "    </tr>\n",
       "    <tr>\n",
       "      <th>1505</th>\n",
       "      <td>1544</td>\n",
       "      <td>Lost World: Jurassic Park, The (1997)</td>\n",
       "      <td>Action|Adventure|Sci-Fi|Thriller</td>\n",
       "    </tr>\n",
       "    <tr>\n",
       "      <th>1533</th>\n",
       "      <td>1573</td>\n",
       "      <td>Face/Off (1997)</td>\n",
       "      <td>Action|Sci-Fi|Thriller</td>\n",
       "    </tr>\n",
       "    <tr>\n",
       "      <th>1954</th>\n",
       "      <td>2023</td>\n",
       "      <td>Godfather: Part III, The (1990)</td>\n",
       "      <td>Action|Crime|Drama</td>\n",
       "    </tr>\n",
       "    <tr>\n",
       "      <th>1959</th>\n",
       "      <td>2028</td>\n",
       "      <td>Saving Private Ryan (1998)</td>\n",
       "      <td>Action|Drama|War</td>\n",
       "    </tr>\n",
       "    <tr>\n",
       "      <th>2647</th>\n",
       "      <td>2716</td>\n",
       "      <td>Ghostbusters (1984)</td>\n",
       "      <td>Comedy|Horror</td>\n",
       "    </tr>\n",
       "    <tr>\n",
       "      <th>2722</th>\n",
       "      <td>2791</td>\n",
       "      <td>Airplane! (1980)</td>\n",
       "      <td>Comedy</td>\n",
       "    </tr>\n",
       "    <tr>\n",
       "      <th>2847</th>\n",
       "      <td>2916</td>\n",
       "      <td>Total Recall (1990)</td>\n",
       "      <td>Action|Adventure|Sci-Fi|Thriller</td>\n",
       "    </tr>\n",
       "    <tr>\n",
       "      <th>3724</th>\n",
       "      <td>3793</td>\n",
       "      <td>X-Men (2000)</td>\n",
       "      <td>Action|Sci-Fi</td>\n",
       "    </tr>\n",
       "  </tbody>\n",
       "</table>\n",
       "</div>"
      ],
      "text/plain": [
       "      movie_id                                              title  \\\n",
       "108        110                                  Braveheart (1995)   \n",
       "257        260          Star Wars: Episode IV - A New Hope (1977)   \n",
       "352        356                                Forrest Gump (1994)   \n",
       "453        457                               Fugitive, The (1993)   \n",
       "585        589                  Terminator 2: Judgment Day (1991)   \n",
       "642        648                         Mission: Impossible (1996)   \n",
       "770        780                      Independence Day (ID4) (1996)   \n",
       "1178      1196  Star Wars: Episode V - The Empire Strikes Back...   \n",
       "1192      1210  Star Wars: Episode VI - Return of the Jedi (1983)   \n",
       "1203      1221                     Godfather: Part II, The (1974)   \n",
       "1220      1240                             Terminator, The (1984)   \n",
       "1491      1527                          Fifth Element, The (1997)   \n",
       "1505      1544              Lost World: Jurassic Park, The (1997)   \n",
       "1533      1573                                    Face/Off (1997)   \n",
       "1954      2023                    Godfather: Part III, The (1990)   \n",
       "1959      2028                         Saving Private Ryan (1998)   \n",
       "2647      2716                                Ghostbusters (1984)   \n",
       "2722      2791                                   Airplane! (1980)   \n",
       "2847      2916                                Total Recall (1990)   \n",
       "3724      3793                                       X-Men (2000)   \n",
       "\n",
       "                                    genre  \n",
       "108                      Action|Drama|War  \n",
       "257       Action|Adventure|Fantasy|Sci-Fi  \n",
       "352                    Comedy|Romance|War  \n",
       "453                       Action|Thriller  \n",
       "585                Action|Sci-Fi|Thriller  \n",
       "642              Action|Adventure|Mystery  \n",
       "770                     Action|Sci-Fi|War  \n",
       "1178    Action|Adventure|Drama|Sci-Fi|War  \n",
       "1192  Action|Adventure|Romance|Sci-Fi|War  \n",
       "1203                   Action|Crime|Drama  \n",
       "1220               Action|Sci-Fi|Thriller  \n",
       "1491                        Action|Sci-Fi  \n",
       "1505     Action|Adventure|Sci-Fi|Thriller  \n",
       "1533               Action|Sci-Fi|Thriller  \n",
       "1954                   Action|Crime|Drama  \n",
       "1959                     Action|Drama|War  \n",
       "2647                        Comedy|Horror  \n",
       "2722                               Comedy  \n",
       "2847     Action|Adventure|Sci-Fi|Thriller  \n",
       "3724                        Action|Sci-Fi  "
      ]
     },
     "execution_count": 102,
     "metadata": {},
     "output_type": "execute_result"
    }
   ],
   "source": [
    "movies[movies['movie_id'].isin([m[0] for m in movie_recommended])]"
   ]
  },
  {
   "cell_type": "markdown",
   "id": "79a2ae00",
   "metadata": {},
   "source": [
    "회고"
   ]
  },
  {
   "cell_type": "markdown",
   "id": "b6c006e9",
   "metadata": {},
   "source": [
    "Godfather에 대한 선호도를 측정 0.5907673 "
   ]
  },
  {
   "cell_type": "markdown",
   "id": "60541be2",
   "metadata": {},
   "source": [
    "Toystory에 대한 선호도를 측정 0.07978419, 좋아하는 영화 목록에 없었습니다."
   ]
  },
  {
   "cell_type": "markdown",
   "id": "d2f8f84f",
   "metadata": {},
   "source": [
    "Godfather와 유사한 영화를 추천받아"
   ]
  },
  {
   "cell_type": "markdown",
   "id": "9cd5f2a0",
   "metadata": {},
   "source": [
    "Action|Crime|Drama|Thrillera 장르의 영화를 추천받았습니다."
   ]
  },
  {
   "cell_type": "markdown",
   "id": "ee0f351b",
   "metadata": {},
   "source": [
    "많은 분들의 도움과 퍼실님의 도움을 받았습니다."
   ]
  },
  {
   "cell_type": "markdown",
   "id": "ba5688bb",
   "metadata": {},
   "source": [
    "ㅡ감사합니다."
   ]
  },
  {
   "cell_type": "markdown",
   "id": "74191479",
   "metadata": {},
   "source": [
    "reference "
   ]
  },
  {
   "cell_type": "markdown",
   "id": "65e86d39",
   "metadata": {},
   "source": [
    "https://lms.aiffel.io/course/357/node/498/step/3377"
   ]
  },
  {
   "cell_type": "markdown",
   "id": "ede0753c",
   "metadata": {},
   "source": [
    "https://github.com/JaeHeee/AIFFEL_Project/blob/master/EXPLORATION/EXPLORATION%207.%20%EC%95%84%EC%9D%B4%EC%9C%A0%ED%8C%AC%EC%9D%B4%20%EC%A2%8B%EC%95%84%ED%95%A0%20%EB%A7%8C%ED%95%9C%20%EB%8B%A4%EB%A5%B8%20%EC%95%84%ED%8B%B0%EC%8A%A4%ED%8A%B8%20%EC%B0%BE%EA%B8%B0.ipynb"
   ]
  }
 ],
 "metadata": {
  "kernelspec": {
   "display_name": "Python 3 (ipykernel)",
   "language": "python",
   "name": "python3"
  },
  "language_info": {
   "codemirror_mode": {
    "name": "ipython",
    "version": 3
   },
   "file_extension": ".py",
   "mimetype": "text/x-python",
   "name": "python",
   "nbconvert_exporter": "python",
   "pygments_lexer": "ipython3",
   "version": "3.9.7"
  }
 },
 "nbformat": 4,
 "nbformat_minor": 5
}
